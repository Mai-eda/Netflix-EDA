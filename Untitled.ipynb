{
 "cells": [
  {
   "cell_type": "raw",
   "id": "d27b24c8",
   "metadata": {},
   "source": [
    "import pandas as pd\n",
    "import numpy as np \n",
    "import matplotlib.pyplot as plt\n"
   ]
  },
  {
   "cell_type": "code",
   "execution_count": 2,
   "id": "d2cfd578",
   "metadata": {},
   "outputs": [],
   "source": [
    "df=pd.read_csv('netflix_titles.csv')"
   ]
  },
  {
   "cell_type": "code",
   "execution_count": 3,
   "id": "2d6dbfdd",
   "metadata": {
    "scrolled": true
   },
   "outputs": [
    {
     "data": {
      "text/html": [
       "<div>\n",
       "<style scoped>\n",
       "    .dataframe tbody tr th:only-of-type {\n",
       "        vertical-align: middle;\n",
       "    }\n",
       "\n",
       "    .dataframe tbody tr th {\n",
       "        vertical-align: top;\n",
       "    }\n",
       "\n",
       "    .dataframe thead th {\n",
       "        text-align: right;\n",
       "    }\n",
       "</style>\n",
       "<table border=\"1\" class=\"dataframe\">\n",
       "  <thead>\n",
       "    <tr style=\"text-align: right;\">\n",
       "      <th></th>\n",
       "      <th>show_id</th>\n",
       "      <th>type</th>\n",
       "      <th>title</th>\n",
       "      <th>director</th>\n",
       "      <th>cast</th>\n",
       "      <th>country</th>\n",
       "      <th>date_added</th>\n",
       "      <th>release_year</th>\n",
       "      <th>rating</th>\n",
       "      <th>duration</th>\n",
       "      <th>listed_in</th>\n",
       "      <th>description</th>\n",
       "    </tr>\n",
       "  </thead>\n",
       "  <tbody>\n",
       "    <tr>\n",
       "      <th>0</th>\n",
       "      <td>81145628</td>\n",
       "      <td>Movie</td>\n",
       "      <td>Norm of the North: King Sized Adventure</td>\n",
       "      <td>Richard Finn, Tim Maltby</td>\n",
       "      <td>Alan Marriott, Andrew Toth, Brian Dobson, Cole...</td>\n",
       "      <td>United States, India, South Korea, China</td>\n",
       "      <td>September 9, 2019</td>\n",
       "      <td>2019</td>\n",
       "      <td>TV-PG</td>\n",
       "      <td>90 min</td>\n",
       "      <td>Children &amp; Family Movies, Comedies</td>\n",
       "      <td>Before planning an awesome wedding for his gra...</td>\n",
       "    </tr>\n",
       "    <tr>\n",
       "      <th>1</th>\n",
       "      <td>80117401</td>\n",
       "      <td>Movie</td>\n",
       "      <td>Jandino: Whatever it Takes</td>\n",
       "      <td>NaN</td>\n",
       "      <td>Jandino Asporaat</td>\n",
       "      <td>United Kingdom</td>\n",
       "      <td>September 9, 2016</td>\n",
       "      <td>2016</td>\n",
       "      <td>TV-MA</td>\n",
       "      <td>94 min</td>\n",
       "      <td>Stand-Up Comedy</td>\n",
       "      <td>Jandino Asporaat riffs on the challenges of ra...</td>\n",
       "    </tr>\n",
       "  </tbody>\n",
       "</table>\n",
       "</div>"
      ],
      "text/plain": [
       "    show_id   type                                    title  \\\n",
       "0  81145628  Movie  Norm of the North: King Sized Adventure   \n",
       "1  80117401  Movie               Jandino: Whatever it Takes   \n",
       "\n",
       "                   director  \\\n",
       "0  Richard Finn, Tim Maltby   \n",
       "1                       NaN   \n",
       "\n",
       "                                                cast  \\\n",
       "0  Alan Marriott, Andrew Toth, Brian Dobson, Cole...   \n",
       "1                                   Jandino Asporaat   \n",
       "\n",
       "                                    country         date_added  release_year  \\\n",
       "0  United States, India, South Korea, China  September 9, 2019          2019   \n",
       "1                            United Kingdom  September 9, 2016          2016   \n",
       "\n",
       "  rating duration                           listed_in  \\\n",
       "0  TV-PG   90 min  Children & Family Movies, Comedies   \n",
       "1  TV-MA   94 min                     Stand-Up Comedy   \n",
       "\n",
       "                                         description  \n",
       "0  Before planning an awesome wedding for his gra...  \n",
       "1  Jandino Asporaat riffs on the challenges of ra...  "
      ]
     },
     "execution_count": 3,
     "metadata": {},
     "output_type": "execute_result"
    }
   ],
   "source": [
    "df.head(2)"
   ]
  },
  {
   "cell_type": "markdown",
   "id": "79934b38",
   "metadata": {},
   "source": [
    "# 1.  Does Netflix have more focus on TV Shows than movies in recent years?"
   ]
  },
  {
   "cell_type": "code",
   "execution_count": 126,
   "id": "a06035c0",
   "metadata": {},
   "outputs": [
    {
     "data": {
      "text/plain": [
       "<bound method IndexOpsMixin.value_counts of 0         Movie\n",
       "1         Movie\n",
       "2       TV Show\n",
       "3       TV Show\n",
       "4         Movie\n",
       "         ...   \n",
       "6229    TV Show\n",
       "6230    TV Show\n",
       "6231      Movie\n",
       "6232    TV Show\n",
       "6233    TV Show\n",
       "Name: type, Length: 6234, dtype: object>"
      ]
     },
     "execution_count": 126,
     "metadata": {},
     "output_type": "execute_result"
    }
   ],
   "source": [
    "df['type'].value_counts"
   ]
  },
  {
   "cell_type": "code",
   "execution_count": 5,
   "id": "1af92eef",
   "metadata": {},
   "outputs": [
    {
     "data": {
      "text/plain": [
       "Movie      4265\n",
       "TV Show    1969\n",
       "Name: type, dtype: int64"
      ]
     },
     "execution_count": 5,
     "metadata": {},
     "output_type": "execute_result"
    }
   ],
   "source": [
    "df['type'].value_counts()\n"
   ]
  },
  {
   "cell_type": "code",
   "execution_count": 128,
   "id": "c609db4a",
   "metadata": {
    "scrolled": false
   },
   "outputs": [
    {
     "data": {
      "text/plain": [
       "<Axes: title={'center': 'Types of shows om Netflix'}>"
      ]
     },
     "execution_count": 128,
     "metadata": {},
     "output_type": "execute_result"
    },
    {
     "data": {
      "image/png": "[encoded data removed]",
      "text/plain": [
       "<Figure size 640x480 with 1 Axes>"
      ]
     },
     "metadata": {},
     "output_type": "display_data"
    }
   ],
   "source": [
    "df['type'].value_counts().plot(kind='pie', x= 'type',title='Types of shows om Netflix', color='lavender')"
   ]
  },
  {
   "cell_type": "code",
   "execution_count": 7,
   "id": "6ea3b9cf",
   "metadata": {},
   "outputs": [
    {
     "data": {
      "text/plain": [
       "<Axes: title={'center': 'Types of shows on netflix'}>"
      ]
     },
     "execution_count": 7,
     "metadata": {},
     "output_type": "execute_result"
    },
    {
     "data": {
      "image/png": "[encoded data removed]",
      "text/plain": [
       "<Figure size 640x480 with 1 Axes>"
      ]
     },
     "metadata": {},
     "output_type": "display_data"
    }
   ],
   "source": [
    "df['type'].value_counts().plot(kind='bar',title='Types of shows on netflix',color='silver')"
   ]
  },
  {
   "cell_type": "markdown",
   "id": "85e44bc5",
   "metadata": {},
   "source": [
    "# 2. Extract the top 10 directors by number of movies made from the dataset."
   ]
  },
  {
   "cell_type": "code",
   "execution_count": 8,
   "id": "fd7eac61",
   "metadata": {},
   "outputs": [
    {
     "data": {
      "text/html": [
       "<div>\n",
       "<style scoped>\n",
       "    .dataframe tbody tr th:only-of-type {\n",
       "        vertical-align: middle;\n",
       "    }\n",
       "\n",
       "    .dataframe tbody tr th {\n",
       "        vertical-align: top;\n",
       "    }\n",
       "\n",
       "    .dataframe thead th {\n",
       "        text-align: right;\n",
       "    }\n",
       "</style>\n",
       "<table border=\"1\" class=\"dataframe\">\n",
       "  <thead>\n",
       "    <tr style=\"text-align: right;\">\n",
       "      <th></th>\n",
       "      <th>index</th>\n",
       "      <th>director</th>\n",
       "    </tr>\n",
       "  </thead>\n",
       "  <tbody>\n",
       "    <tr>\n",
       "      <th>0</th>\n",
       "      <td>Raúl Campos, Jan Suter</td>\n",
       "      <td>18</td>\n",
       "    </tr>\n",
       "    <tr>\n",
       "      <th>1</th>\n",
       "      <td>Marcus Raboy</td>\n",
       "      <td>14</td>\n",
       "    </tr>\n",
       "    <tr>\n",
       "      <th>2</th>\n",
       "      <td>Jay Karas</td>\n",
       "      <td>13</td>\n",
       "    </tr>\n",
       "    <tr>\n",
       "      <th>3</th>\n",
       "      <td>Jay Chapman</td>\n",
       "      <td>12</td>\n",
       "    </tr>\n",
       "    <tr>\n",
       "      <th>4</th>\n",
       "      <td>Steven Spielberg</td>\n",
       "      <td>9</td>\n",
       "    </tr>\n",
       "    <tr>\n",
       "      <th>5</th>\n",
       "      <td>Martin Scorsese</td>\n",
       "      <td>9</td>\n",
       "    </tr>\n",
       "    <tr>\n",
       "      <th>6</th>\n",
       "      <td>Johnnie To</td>\n",
       "      <td>8</td>\n",
       "    </tr>\n",
       "    <tr>\n",
       "      <th>7</th>\n",
       "      <td>David Dhawan</td>\n",
       "      <td>8</td>\n",
       "    </tr>\n",
       "    <tr>\n",
       "      <th>8</th>\n",
       "      <td>Lance Bangs</td>\n",
       "      <td>8</td>\n",
       "    </tr>\n",
       "    <tr>\n",
       "      <th>9</th>\n",
       "      <td>S.S. Rajamouli</td>\n",
       "      <td>7</td>\n",
       "    </tr>\n",
       "  </tbody>\n",
       "</table>\n",
       "</div>"
      ],
      "text/plain": [
       "                    index  director\n",
       "0  Raúl Campos, Jan Suter        18\n",
       "1            Marcus Raboy        14\n",
       "2               Jay Karas        13\n",
       "3             Jay Chapman        12\n",
       "4        Steven Spielberg         9\n",
       "5         Martin Scorsese         9\n",
       "6              Johnnie To         8\n",
       "7            David Dhawan         8\n",
       "8             Lance Bangs         8\n",
       "9          S.S. Rajamouli         7"
      ]
     },
     "execution_count": 8,
     "metadata": {},
     "output_type": "execute_result"
    }
   ],
   "source": [
    "df.loc[df['type'] =='Movie','director'].value_counts().reset_index().head(10)"
   ]
  },
  {
   "cell_type": "markdown",
   "id": "56fbf27d",
   "metadata": {},
   "source": [
    "# 3. How many unique countries have produced movies?"
   ]
  },
  {
   "cell_type": "code",
   "execution_count": 9,
   "id": "fd033b70",
   "metadata": {},
   "outputs": [
    {
     "data": {
      "text/plain": [
       "482"
      ]
     },
     "execution_count": 9,
     "metadata": {},
     "output_type": "execute_result"
    }
   ],
   "source": [
    "df.loc[df['type']=='Movie','country'].nunique()"
   ]
  },
  {
   "cell_type": "markdown",
   "id": "b248d9eb",
   "metadata": {},
   "source": [
    "# 4. In what year were the least movies produced?"
   ]
  },
  {
   "cell_type": "code",
   "execution_count": 129,
   "id": "62eff2f2",
   "metadata": {},
   "outputs": [
    {
     "data": {
      "text/html": [
       "<div>\n",
       "<style scoped>\n",
       "    .dataframe tbody tr th:only-of-type {\n",
       "        vertical-align: middle;\n",
       "    }\n",
       "\n",
       "    .dataframe tbody tr th {\n",
       "        vertical-align: top;\n",
       "    }\n",
       "\n",
       "    .dataframe thead th {\n",
       "        text-align: right;\n",
       "    }\n",
       "</style>\n",
       "<table border=\"1\" class=\"dataframe\">\n",
       "  <thead>\n",
       "    <tr style=\"text-align: right;\">\n",
       "      <th></th>\n",
       "      <th>index</th>\n",
       "      <th>release_year</th>\n",
       "    </tr>\n",
       "  </thead>\n",
       "  <tbody>\n",
       "    <tr>\n",
       "      <th>0</th>\n",
       "      <td>1965</td>\n",
       "      <td>2</td>\n",
       "    </tr>\n",
       "    <tr>\n",
       "      <th>1</th>\n",
       "      <td>1958</td>\n",
       "      <td>2</td>\n",
       "    </tr>\n",
       "    <tr>\n",
       "      <th>2</th>\n",
       "      <td>1970</td>\n",
       "      <td>1</td>\n",
       "    </tr>\n",
       "    <tr>\n",
       "      <th>3</th>\n",
       "      <td>1955</td>\n",
       "      <td>1</td>\n",
       "    </tr>\n",
       "    <tr>\n",
       "      <th>4</th>\n",
       "      <td>1947</td>\n",
       "      <td>1</td>\n",
       "    </tr>\n",
       "    <tr>\n",
       "      <th>5</th>\n",
       "      <td>1956</td>\n",
       "      <td>1</td>\n",
       "    </tr>\n",
       "    <tr>\n",
       "      <th>6</th>\n",
       "      <td>1954</td>\n",
       "      <td>1</td>\n",
       "    </tr>\n",
       "    <tr>\n",
       "      <th>7</th>\n",
       "      <td>1966</td>\n",
       "      <td>1</td>\n",
       "    </tr>\n",
       "    <tr>\n",
       "      <th>8</th>\n",
       "      <td>1959</td>\n",
       "      <td>1</td>\n",
       "    </tr>\n",
       "    <tr>\n",
       "      <th>9</th>\n",
       "      <td>1964</td>\n",
       "      <td>1</td>\n",
       "    </tr>\n",
       "  </tbody>\n",
       "</table>\n",
       "</div>"
      ],
      "text/plain": [
       "   index  release_year\n",
       "0   1965             2\n",
       "1   1958             2\n",
       "2   1970             1\n",
       "3   1955             1\n",
       "4   1947             1\n",
       "5   1956             1\n",
       "6   1954             1\n",
       "7   1966             1\n",
       "8   1959             1\n",
       "9   1964             1"
      ]
     },
     "execution_count": 129,
     "metadata": {},
     "output_type": "execute_result"
    }
   ],
   "source": [
    "df.loc[df['type']=='Movie','release_year'].value_counts().tail(10).reset_index()"
   ]
  },
  {
   "cell_type": "markdown",
   "id": "b90ce1f9",
   "metadata": {},
   "source": [
    "# 5. What is the TV show with maximum duration/seasons?"
   ]
  },
  {
   "cell_type": "code",
   "execution_count": 12,
   "id": "6e3b25dc",
   "metadata": {},
   "outputs": [
    {
     "data": {
      "text/html": [
       "<div>\n",
       "<style scoped>\n",
       "    .dataframe tbody tr th:only-of-type {\n",
       "        vertical-align: middle;\n",
       "    }\n",
       "\n",
       "    .dataframe tbody tr th {\n",
       "        vertical-align: top;\n",
       "    }\n",
       "\n",
       "    .dataframe thead th {\n",
       "        text-align: right;\n",
       "    }\n",
       "</style>\n",
       "<table border=\"1\" class=\"dataframe\">\n",
       "  <thead>\n",
       "    <tr style=\"text-align: right;\">\n",
       "      <th></th>\n",
       "      <th>duration</th>\n",
       "    </tr>\n",
       "  </thead>\n",
       "  <tbody>\n",
       "    <tr>\n",
       "      <th>2</th>\n",
       "      <td>1 Season</td>\n",
       "    </tr>\n",
       "    <tr>\n",
       "      <th>3</th>\n",
       "      <td>1 Season</td>\n",
       "    </tr>\n",
       "    <tr>\n",
       "      <th>5</th>\n",
       "      <td>1 Season</td>\n",
       "    </tr>\n",
       "    <tr>\n",
       "      <th>8</th>\n",
       "      <td>1 Season</td>\n",
       "    </tr>\n",
       "    <tr>\n",
       "      <th>26</th>\n",
       "      <td>1 Season</td>\n",
       "    </tr>\n",
       "    <tr>\n",
       "      <th>...</th>\n",
       "      <td>...</td>\n",
       "    </tr>\n",
       "    <tr>\n",
       "      <th>6228</th>\n",
       "      <td>2 Seasons</td>\n",
       "    </tr>\n",
       "    <tr>\n",
       "      <th>6229</th>\n",
       "      <td>13 Seasons</td>\n",
       "    </tr>\n",
       "    <tr>\n",
       "      <th>6230</th>\n",
       "      <td>4 Seasons</td>\n",
       "    </tr>\n",
       "    <tr>\n",
       "      <th>6232</th>\n",
       "      <td>2 Seasons</td>\n",
       "    </tr>\n",
       "    <tr>\n",
       "      <th>6233</th>\n",
       "      <td>10 Seasons</td>\n",
       "    </tr>\n",
       "  </tbody>\n",
       "</table>\n",
       "<p>1969 rows × 1 columns</p>\n",
       "</div>"
      ],
      "text/plain": [
       "        duration\n",
       "2       1 Season\n",
       "3       1 Season\n",
       "5       1 Season\n",
       "8       1 Season\n",
       "26      1 Season\n",
       "...          ...\n",
       "6228   2 Seasons\n",
       "6229  13 Seasons\n",
       "6230   4 Seasons\n",
       "6232   2 Seasons\n",
       "6233  10 Seasons\n",
       "\n",
       "[1969 rows x 1 columns]"
      ]
     },
     "execution_count": 12,
     "metadata": {},
     "output_type": "execute_result"
    }
   ],
   "source": [
    "df.loc[df['type']=='TV Show',['duration']]"
   ]
  },
  {
   "cell_type": "code",
   "execution_count": 131,
   "id": "d3bc0626",
   "metadata": {},
   "outputs": [
    {
     "data": {
      "text/html": [
       "<div>\n",
       "<style scoped>\n",
       "    .dataframe tbody tr th:only-of-type {\n",
       "        vertical-align: middle;\n",
       "    }\n",
       "\n",
       "    .dataframe tbody tr th {\n",
       "        vertical-align: top;\n",
       "    }\n",
       "\n",
       "    .dataframe thead th {\n",
       "        text-align: right;\n",
       "    }\n",
       "</style>\n",
       "<table border=\"1\" class=\"dataframe\">\n",
       "  <thead>\n",
       "    <tr style=\"text-align: right;\">\n",
       "      <th></th>\n",
       "      <th>duration</th>\n",
       "      <th>country</th>\n",
       "      <th>0</th>\n",
       "    </tr>\n",
       "  </thead>\n",
       "  <tbody>\n",
       "    <tr>\n",
       "      <th>0</th>\n",
       "      <td>1 Season</td>\n",
       "      <td>United States</td>\n",
       "      <td>285</td>\n",
       "    </tr>\n",
       "    <tr>\n",
       "      <th>1</th>\n",
       "      <td>1 Season</td>\n",
       "      <td>United Kingdom</td>\n",
       "      <td>111</td>\n",
       "    </tr>\n",
       "    <tr>\n",
       "      <th>2</th>\n",
       "      <td>1 Season</td>\n",
       "      <td>South Korea</td>\n",
       "      <td>89</td>\n",
       "    </tr>\n",
       "  </tbody>\n",
       "</table>\n",
       "</div>"
      ],
      "text/plain": [
       "   duration         country    0\n",
       "0  1 Season   United States  285\n",
       "1  1 Season  United Kingdom  111\n",
       "2  1 Season     South Korea   89"
      ]
     },
     "execution_count": 131,
     "metadata": {},
     "output_type": "execute_result"
    }
   ],
   "source": [
    "df.loc[df['type']=='TV Show',['duration','country']].value_counts().reset_index().head(3)"
   ]
  },
  {
   "cell_type": "markdown",
   "id": "a009e5b8",
   "metadata": {},
   "source": [
    "# 6. How many movies were produced in the last 10 years?"
   ]
  },
  {
   "cell_type": "code",
   "execution_count": 14,
   "id": "223a1a6d",
   "metadata": {},
   "outputs": [
    {
     "data": {
      "text/html": [
       "<div>\n",
       "<style scoped>\n",
       "    .dataframe tbody tr th:only-of-type {\n",
       "        vertical-align: middle;\n",
       "    }\n",
       "\n",
       "    .dataframe tbody tr th {\n",
       "        vertical-align: top;\n",
       "    }\n",
       "\n",
       "    .dataframe thead th {\n",
       "        text-align: right;\n",
       "    }\n",
       "</style>\n",
       "<table border=\"1\" class=\"dataframe\">\n",
       "  <thead>\n",
       "    <tr style=\"text-align: right;\">\n",
       "      <th></th>\n",
       "      <th>show_id</th>\n",
       "      <th>type</th>\n",
       "      <th>title</th>\n",
       "      <th>director</th>\n",
       "      <th>cast</th>\n",
       "      <th>country</th>\n",
       "      <th>date_added</th>\n",
       "      <th>release_year</th>\n",
       "      <th>rating</th>\n",
       "      <th>duration</th>\n",
       "      <th>listed_in</th>\n",
       "      <th>description</th>\n",
       "    </tr>\n",
       "  </thead>\n",
       "  <tbody>\n",
       "    <tr>\n",
       "      <th>0</th>\n",
       "      <td>81145628</td>\n",
       "      <td>Movie</td>\n",
       "      <td>Norm of the North: King Sized Adventure</td>\n",
       "      <td>Richard Finn, Tim Maltby</td>\n",
       "      <td>Alan Marriott, Andrew Toth, Brian Dobson, Cole...</td>\n",
       "      <td>United States, India, South Korea, China</td>\n",
       "      <td>September 9, 2019</td>\n",
       "      <td>2019</td>\n",
       "      <td>TV-PG</td>\n",
       "      <td>90 min</td>\n",
       "      <td>Children &amp; Family Movies, Comedies</td>\n",
       "      <td>Before planning an awesome wedding for his gra...</td>\n",
       "    </tr>\n",
       "    <tr>\n",
       "      <th>1</th>\n",
       "      <td>80117401</td>\n",
       "      <td>Movie</td>\n",
       "      <td>Jandino: Whatever it Takes</td>\n",
       "      <td>NaN</td>\n",
       "      <td>Jandino Asporaat</td>\n",
       "      <td>United Kingdom</td>\n",
       "      <td>September 9, 2016</td>\n",
       "      <td>2016</td>\n",
       "      <td>TV-MA</td>\n",
       "      <td>94 min</td>\n",
       "      <td>Stand-Up Comedy</td>\n",
       "      <td>Jandino Asporaat riffs on the challenges of ra...</td>\n",
       "    </tr>\n",
       "    <tr>\n",
       "      <th>4</th>\n",
       "      <td>80125979</td>\n",
       "      <td>Movie</td>\n",
       "      <td>#realityhigh</td>\n",
       "      <td>Fernando Lebrija</td>\n",
       "      <td>Nesta Cooper, Kate Walsh, John Michael Higgins...</td>\n",
       "      <td>United States</td>\n",
       "      <td>September 8, 2017</td>\n",
       "      <td>2017</td>\n",
       "      <td>TV-14</td>\n",
       "      <td>99 min</td>\n",
       "      <td>Comedies</td>\n",
       "      <td>When nerdy high schooler Dani finally attracts...</td>\n",
       "    </tr>\n",
       "    <tr>\n",
       "      <th>6</th>\n",
       "      <td>70304989</td>\n",
       "      <td>Movie</td>\n",
       "      <td>Automata</td>\n",
       "      <td>Gabe Ibáñez</td>\n",
       "      <td>Antonio Banderas, Dylan McDermott, Melanie Gri...</td>\n",
       "      <td>Bulgaria, United States, Spain, Canada</td>\n",
       "      <td>September 8, 2017</td>\n",
       "      <td>2014</td>\n",
       "      <td>R</td>\n",
       "      <td>110 min</td>\n",
       "      <td>International Movies, Sci-Fi &amp; Fantasy, Thrillers</td>\n",
       "      <td>In a dystopian future, an insurance adjuster f...</td>\n",
       "    </tr>\n",
       "    <tr>\n",
       "      <th>7</th>\n",
       "      <td>80164077</td>\n",
       "      <td>Movie</td>\n",
       "      <td>Fabrizio Copano: Solo pienso en mi</td>\n",
       "      <td>Rodrigo Toro, Francisco Schultz</td>\n",
       "      <td>Fabrizio Copano</td>\n",
       "      <td>Chile</td>\n",
       "      <td>September 8, 2017</td>\n",
       "      <td>2017</td>\n",
       "      <td>TV-MA</td>\n",
       "      <td>60 min</td>\n",
       "      <td>Stand-Up Comedy</td>\n",
       "      <td>Fabrizio Copano takes audience participation t...</td>\n",
       "    </tr>\n",
       "    <tr>\n",
       "      <th>...</th>\n",
       "      <td>...</td>\n",
       "      <td>...</td>\n",
       "      <td>...</td>\n",
       "      <td>...</td>\n",
       "      <td>...</td>\n",
       "      <td>...</td>\n",
       "      <td>...</td>\n",
       "      <td>...</td>\n",
       "      <td>...</td>\n",
       "      <td>...</td>\n",
       "      <td>...</td>\n",
       "      <td>...</td>\n",
       "    </tr>\n",
       "    <tr>\n",
       "      <th>5575</th>\n",
       "      <td>80093107</td>\n",
       "      <td>Movie</td>\n",
       "      <td>Toro</td>\n",
       "      <td>Kike Maíllo</td>\n",
       "      <td>Mario Casas, Luis Tosar, José Sacristán, Claud...</td>\n",
       "      <td>Spain</td>\n",
       "      <td>April 1, 2017</td>\n",
       "      <td>2016</td>\n",
       "      <td>NR</td>\n",
       "      <td>106 min</td>\n",
       "      <td>Dramas, International Movies, Thrillers</td>\n",
       "      <td>Ex-con Toro's brother and former partner in cr...</td>\n",
       "    </tr>\n",
       "    <tr>\n",
       "      <th>5578</th>\n",
       "      <td>80085439</td>\n",
       "      <td>Movie</td>\n",
       "      <td>Frank and Cindy</td>\n",
       "      <td>G.J. Echternkamp</td>\n",
       "      <td>Rene Russo, Oliver Platt, Johnny Simmons, Jane...</td>\n",
       "      <td>United States</td>\n",
       "      <td>April 1, 2016</td>\n",
       "      <td>2015</td>\n",
       "      <td>R</td>\n",
       "      <td>102 min</td>\n",
       "      <td>Comedies, Dramas, Independent Movies</td>\n",
       "      <td>A student filmmaker vengefully turns his camer...</td>\n",
       "    </tr>\n",
       "    <tr>\n",
       "      <th>5579</th>\n",
       "      <td>80011846</td>\n",
       "      <td>Movie</td>\n",
       "      <td>Iverson</td>\n",
       "      <td>Zatella Beatty</td>\n",
       "      <td>Allen Iverson</td>\n",
       "      <td>United States</td>\n",
       "      <td>April 1, 2016</td>\n",
       "      <td>2014</td>\n",
       "      <td>NR</td>\n",
       "      <td>88 min</td>\n",
       "      <td>Documentaries, Sports Movies</td>\n",
       "      <td>This unfiltered documentary follows the rocky ...</td>\n",
       "    </tr>\n",
       "    <tr>\n",
       "      <th>5580</th>\n",
       "      <td>80064521</td>\n",
       "      <td>Movie</td>\n",
       "      <td>Jeremy Scott: The People's Designer</td>\n",
       "      <td>Vlad Yudin</td>\n",
       "      <td>Jeremy Scott</td>\n",
       "      <td>United States</td>\n",
       "      <td>April 1, 2016</td>\n",
       "      <td>2015</td>\n",
       "      <td>PG-13</td>\n",
       "      <td>109 min</td>\n",
       "      <td>Documentaries</td>\n",
       "      <td>The journey of fashion designer Jeremy Scott f...</td>\n",
       "    </tr>\n",
       "    <tr>\n",
       "      <th>6231</th>\n",
       "      <td>80116008</td>\n",
       "      <td>Movie</td>\n",
       "      <td>Little Baby Bum: Nursery Rhyme Friends</td>\n",
       "      <td>NaN</td>\n",
       "      <td>NaN</td>\n",
       "      <td>NaN</td>\n",
       "      <td>NaN</td>\n",
       "      <td>2016</td>\n",
       "      <td>NaN</td>\n",
       "      <td>60 min</td>\n",
       "      <td>Movies</td>\n",
       "      <td>Nursery rhymes and original music for children...</td>\n",
       "    </tr>\n",
       "  </tbody>\n",
       "</table>\n",
       "<p>2903 rows × 12 columns</p>\n",
       "</div>"
      ],
      "text/plain": [
       "       show_id   type                                    title  \\\n",
       "0     81145628  Movie  Norm of the North: King Sized Adventure   \n",
       "1     80117401  Movie               Jandino: Whatever it Takes   \n",
       "4     80125979  Movie                             #realityhigh   \n",
       "6     70304989  Movie                                 Automata   \n",
       "7     80164077  Movie       Fabrizio Copano: Solo pienso en mi   \n",
       "...        ...    ...                                      ...   \n",
       "5575  80093107  Movie                                     Toro   \n",
       "5578  80085439  Movie                          Frank and Cindy   \n",
       "5579  80011846  Movie                                  Iverson   \n",
       "5580  80064521  Movie      Jeremy Scott: The People's Designer   \n",
       "6231  80116008  Movie   Little Baby Bum: Nursery Rhyme Friends   \n",
       "\n",
       "                             director  \\\n",
       "0            Richard Finn, Tim Maltby   \n",
       "1                                 NaN   \n",
       "4                    Fernando Lebrija   \n",
       "6                         Gabe Ibáñez   \n",
       "7     Rodrigo Toro, Francisco Schultz   \n",
       "...                               ...   \n",
       "5575                      Kike Maíllo   \n",
       "5578                 G.J. Echternkamp   \n",
       "5579                   Zatella Beatty   \n",
       "5580                       Vlad Yudin   \n",
       "6231                              NaN   \n",
       "\n",
       "                                                   cast  \\\n",
       "0     Alan Marriott, Andrew Toth, Brian Dobson, Cole...   \n",
       "1                                      Jandino Asporaat   \n",
       "4     Nesta Cooper, Kate Walsh, John Michael Higgins...   \n",
       "6     Antonio Banderas, Dylan McDermott, Melanie Gri...   \n",
       "7                                       Fabrizio Copano   \n",
       "...                                                 ...   \n",
       "5575  Mario Casas, Luis Tosar, José Sacristán, Claud...   \n",
       "5578  Rene Russo, Oliver Platt, Johnny Simmons, Jane...   \n",
       "5579                                      Allen Iverson   \n",
       "5580                                       Jeremy Scott   \n",
       "6231                                                NaN   \n",
       "\n",
       "                                       country         date_added  \\\n",
       "0     United States, India, South Korea, China  September 9, 2019   \n",
       "1                               United Kingdom  September 9, 2016   \n",
       "4                                United States  September 8, 2017   \n",
       "6       Bulgaria, United States, Spain, Canada  September 8, 2017   \n",
       "7                                        Chile  September 8, 2017   \n",
       "...                                        ...                ...   \n",
       "5575                                     Spain      April 1, 2017   \n",
       "5578                             United States      April 1, 2016   \n",
       "5579                             United States      April 1, 2016   \n",
       "5580                             United States      April 1, 2016   \n",
       "6231                                       NaN                NaN   \n",
       "\n",
       "      release_year rating duration  \\\n",
       "0             2019  TV-PG   90 min   \n",
       "1             2016  TV-MA   94 min   \n",
       "4             2017  TV-14   99 min   \n",
       "6             2014      R  110 min   \n",
       "7             2017  TV-MA   60 min   \n",
       "...            ...    ...      ...   \n",
       "5575          2016     NR  106 min   \n",
       "5578          2015      R  102 min   \n",
       "5579          2014     NR   88 min   \n",
       "5580          2015  PG-13  109 min   \n",
       "6231          2016    NaN   60 min   \n",
       "\n",
       "                                              listed_in  \\\n",
       "0                    Children & Family Movies, Comedies   \n",
       "1                                       Stand-Up Comedy   \n",
       "4                                              Comedies   \n",
       "6     International Movies, Sci-Fi & Fantasy, Thrillers   \n",
       "7                                       Stand-Up Comedy   \n",
       "...                                                 ...   \n",
       "5575            Dramas, International Movies, Thrillers   \n",
       "5578               Comedies, Dramas, Independent Movies   \n",
       "5579                       Documentaries, Sports Movies   \n",
       "5580                                      Documentaries   \n",
       "6231                                             Movies   \n",
       "\n",
       "                                            description  \n",
       "0     Before planning an awesome wedding for his gra...  \n",
       "1     Jandino Asporaat riffs on the challenges of ra...  \n",
       "4     When nerdy high schooler Dani finally attracts...  \n",
       "6     In a dystopian future, an insurance adjuster f...  \n",
       "7     Fabrizio Copano takes audience participation t...  \n",
       "...                                                 ...  \n",
       "5575  Ex-con Toro's brother and former partner in cr...  \n",
       "5578  A student filmmaker vengefully turns his camer...  \n",
       "5579  This unfiltered documentary follows the rocky ...  \n",
       "5580  The journey of fashion designer Jeremy Scott f...  \n",
       "6231  Nursery rhymes and original music for children...  \n",
       "\n",
       "[2903 rows x 12 columns]"
      ]
     },
     "execution_count": 14,
     "metadata": {},
     "output_type": "execute_result"
    }
   ],
   "source": [
    "df.loc[(df['type']=='Movie') & (df['release_year']>2013)]\n"
   ]
  },
  {
   "cell_type": "code",
   "execution_count": 15,
   "id": "629f70f0",
   "metadata": {},
   "outputs": [
    {
     "data": {
      "text/plain": [
       "(2903, 12)"
      ]
     },
     "execution_count": 15,
     "metadata": {},
     "output_type": "execute_result"
    }
   ],
   "source": [
    "df.loc[(df['type']=='Movie') & (df['release_year']>2013)].shape\n"
   ]
  },
  {
   "cell_type": "code",
   "execution_count": 16,
   "id": "5f5507c6",
   "metadata": {},
   "outputs": [
    {
     "data": {
      "text/plain": [
       "2903"
      ]
     },
     "execution_count": 16,
     "metadata": {},
     "output_type": "execute_result"
    }
   ],
   "source": [
    "#But we want the number of movies that were produced in last 10 yeas\n",
    "\n",
    "#therefore, we get index[0] which means ROWS\n",
    "\n",
    "\n",
    "df.loc[(df['type']=='Movie') & (df['release_year']>2013)].shape[0]"
   ]
  },
  {
   "cell_type": "markdown",
   "id": "ac975d72",
   "metadata": {},
   "source": [
    " # 7. Which countries produced the most movies?"
   ]
  },
  {
   "cell_type": "code",
   "execution_count": 132,
   "id": "3694b6a8",
   "metadata": {},
   "outputs": [
    {
     "data": {
      "text/plain": [
       "United States     1482\n",
       "India              724\n",
       "United Kingdom     170\n",
       "Canada              88\n",
       "Spain               80\n",
       "Name: country, dtype: int64"
      ]
     },
     "execution_count": 132,
     "metadata": {},
     "output_type": "execute_result"
    }
   ],
   "source": [
    "df.loc[df['type']=='Movie','country'].value_counts().head(5)"
   ]
  },
  {
   "cell_type": "markdown",
   "id": "041e71ba",
   "metadata": {},
   "source": [
    "# 8. What is the most popular rating in TV show?\n"
   ]
  },
  {
   "cell_type": "code",
   "execution_count": 28,
   "id": "775dd5bf",
   "metadata": {},
   "outputs": [
    {
     "data": {
      "text/html": [
       "<div>\n",
       "<style scoped>\n",
       "    .dataframe tbody tr th:only-of-type {\n",
       "        vertical-align: middle;\n",
       "    }\n",
       "\n",
       "    .dataframe tbody tr th {\n",
       "        vertical-align: top;\n",
       "    }\n",
       "\n",
       "    .dataframe thead th {\n",
       "        text-align: right;\n",
       "    }\n",
       "</style>\n",
       "<table border=\"1\" class=\"dataframe\">\n",
       "  <thead>\n",
       "    <tr style=\"text-align: right;\">\n",
       "      <th></th>\n",
       "      <th>show_id</th>\n",
       "      <th>type</th>\n",
       "      <th>title</th>\n",
       "      <th>director</th>\n",
       "      <th>cast</th>\n",
       "      <th>country</th>\n",
       "      <th>date_added</th>\n",
       "      <th>release_year</th>\n",
       "      <th>rating</th>\n",
       "      <th>duration</th>\n",
       "      <th>listed_in</th>\n",
       "      <th>description</th>\n",
       "    </tr>\n",
       "  </thead>\n",
       "  <tbody>\n",
       "    <tr>\n",
       "      <th>0</th>\n",
       "      <td>81145628</td>\n",
       "      <td>Movie</td>\n",
       "      <td>Norm of the North: King Sized Adventure</td>\n",
       "      <td>Richard Finn, Tim Maltby</td>\n",
       "      <td>Alan Marriott, Andrew Toth, Brian Dobson, Cole...</td>\n",
       "      <td>United States, India, South Korea, China</td>\n",
       "      <td>September 9, 2019</td>\n",
       "      <td>2019</td>\n",
       "      <td>TV-PG</td>\n",
       "      <td>90 min</td>\n",
       "      <td>Children &amp; Family Movies, Comedies</td>\n",
       "      <td>Before planning an awesome wedding for his gra...</td>\n",
       "    </tr>\n",
       "    <tr>\n",
       "      <th>1</th>\n",
       "      <td>80117401</td>\n",
       "      <td>Movie</td>\n",
       "      <td>Jandino: Whatever it Takes</td>\n",
       "      <td>NaN</td>\n",
       "      <td>Jandino Asporaat</td>\n",
       "      <td>United Kingdom</td>\n",
       "      <td>September 9, 2016</td>\n",
       "      <td>2016</td>\n",
       "      <td>TV-MA</td>\n",
       "      <td>94 min</td>\n",
       "      <td>Stand-Up Comedy</td>\n",
       "      <td>Jandino Asporaat riffs on the challenges of ra...</td>\n",
       "    </tr>\n",
       "  </tbody>\n",
       "</table>\n",
       "</div>"
      ],
      "text/plain": [
       "    show_id   type                                    title  \\\n",
       "0  81145628  Movie  Norm of the North: King Sized Adventure   \n",
       "1  80117401  Movie               Jandino: Whatever it Takes   \n",
       "\n",
       "                   director  \\\n",
       "0  Richard Finn, Tim Maltby   \n",
       "1                       NaN   \n",
       "\n",
       "                                                cast  \\\n",
       "0  Alan Marriott, Andrew Toth, Brian Dobson, Cole...   \n",
       "1                                   Jandino Asporaat   \n",
       "\n",
       "                                    country         date_added  release_year  \\\n",
       "0  United States, India, South Korea, China  September 9, 2019          2019   \n",
       "1                            United Kingdom  September 9, 2016          2016   \n",
       "\n",
       "  rating duration                           listed_in  \\\n",
       "0  TV-PG   90 min  Children & Family Movies, Comedies   \n",
       "1  TV-MA   94 min                     Stand-Up Comedy   \n",
       "\n",
       "                                         description  \n",
       "0  Before planning an awesome wedding for his gra...  \n",
       "1  Jandino Asporaat riffs on the challenges of ra...  "
      ]
     },
     "execution_count": 28,
     "metadata": {},
     "output_type": "execute_result"
    }
   ],
   "source": [
    "df.head(2)"
   ]
  },
  {
   "cell_type": "code",
   "execution_count": 32,
   "id": "2caeeedd",
   "metadata": {},
   "outputs": [
    {
     "data": {
      "text/plain": [
       "TV-MA       679\n",
       "TV-14       660\n",
       "TV-PG       269\n",
       "TV-Y        102\n",
       "TV-Y7       100\n",
       "TV-G         69\n",
       "TV-Y7-FV     68\n",
       "NR           16\n",
       "R             2\n",
       "G             1\n",
       "PG            1\n",
       "Name: rating, dtype: int64"
      ]
     },
     "execution_count": 32,
     "metadata": {},
     "output_type": "execute_result"
    }
   ],
   "source": [
    "df.loc[df['type']=='TV Show','rating'].value_counts()"
   ]
  },
  {
   "cell_type": "code",
   "execution_count": 33,
   "id": "2eda85ce",
   "metadata": {},
   "outputs": [],
   "source": [
    "#.reset_index?"
   ]
  },
  {
   "cell_type": "markdown",
   "id": "06336e98",
   "metadata": {},
   "source": [
    "# 9. In which year were the most Adult rated movies produced?"
   ]
  },
  {
   "cell_type": "code",
   "execution_count": 57,
   "id": "d7af982e",
   "metadata": {},
   "outputs": [
    {
     "data": {
      "text/plain": [
       "release_year  country      \n",
       "2017          United States    130\n",
       "2018          United States     94\n",
       "2019          United States     77\n",
       "2016          United States     69\n",
       "2018          India             25\n",
       "dtype: int64"
      ]
     },
     "execution_count": 57,
     "metadata": {},
     "output_type": "execute_result"
    }
   ],
   "source": [
    "mov_rating= df.loc[(df['type']=='Movie') & (df['rating'] == 'TV-MA')]\n",
    "\n",
    "mov_rating.loc[ : ,['release_year','country']].value_counts().head()"
   ]
  },
  {
   "cell_type": "code",
   "execution_count": 55,
   "id": "d24eff91",
   "metadata": {},
   "outputs": [
    {
     "data": {
      "text/plain": [
       "2018    300\n",
       "2017    298\n",
       "2016    230\n",
       "2019    187\n",
       "2015     93\n",
       "Name: release_year, dtype: int64"
      ]
     },
     "execution_count": 55,
     "metadata": {},
     "output_type": "execute_result"
    }
   ],
   "source": [
    "mov_rating = df.loc[(df['type'] == 'Movie') & (df['rating'] == 'TV-MA')]\n",
    "mov_rating.loc[ : ,'release_year'].value_counts().head()"
   ]
  },
  {
   "cell_type": "markdown",
   "id": "39c9086b",
   "metadata": {},
   "source": [
    "# 10. Who is the most popular movie director from India?"
   ]
  },
  {
   "cell_type": "code",
   "execution_count": 68,
   "id": "4915fa5e",
   "metadata": {},
   "outputs": [
    {
     "data": {
      "text/plain": [
       "0    United States\n",
       "Name: country, dtype: object"
      ]
     },
     "execution_count": 68,
     "metadata": {},
     "output_type": "execute_result"
    }
   ],
   "source": [
    "df.country.mode()"
   ]
  },
  {
   "cell_type": "code",
   "execution_count": 185,
   "id": "57af3ef1",
   "metadata": {},
   "outputs": [],
   "source": [
    "#As USA is the most frequent country ; we will find out about USA director"
   ]
  },
  {
   "cell_type": "code",
   "execution_count": 181,
   "id": "7cb5961f",
   "metadata": {},
   "outputs": [
    {
     "data": {
      "text/html": [
       "<div>\n",
       "<style scoped>\n",
       "    .dataframe tbody tr th:only-of-type {\n",
       "        vertical-align: middle;\n",
       "    }\n",
       "\n",
       "    .dataframe tbody tr th {\n",
       "        vertical-align: top;\n",
       "    }\n",
       "\n",
       "    .dataframe thead th {\n",
       "        text-align: right;\n",
       "    }\n",
       "</style>\n",
       "<table border=\"1\" class=\"dataframe\">\n",
       "  <thead>\n",
       "    <tr style=\"text-align: right;\">\n",
       "      <th></th>\n",
       "      <th>show_id</th>\n",
       "      <th>type</th>\n",
       "      <th>title</th>\n",
       "      <th>director</th>\n",
       "      <th>cast</th>\n",
       "      <th>country</th>\n",
       "      <th>date_added</th>\n",
       "      <th>release_year</th>\n",
       "      <th>rating</th>\n",
       "      <th>duration</th>\n",
       "      <th>listed_in</th>\n",
       "      <th>description</th>\n",
       "    </tr>\n",
       "  </thead>\n",
       "  <tbody>\n",
       "    <tr>\n",
       "      <th>4</th>\n",
       "      <td>80125979</td>\n",
       "      <td>Movie</td>\n",
       "      <td>#realityhigh</td>\n",
       "      <td>Fernando Lebrija</td>\n",
       "      <td>Nesta Cooper, Kate Walsh, John Michael Higgins...</td>\n",
       "      <td>United States</td>\n",
       "      <td>September 8, 2017</td>\n",
       "      <td>2017</td>\n",
       "      <td>TV-14</td>\n",
       "      <td>99 min</td>\n",
       "      <td>Comedies</td>\n",
       "      <td>When nerdy high schooler Dani finally attracts...</td>\n",
       "    </tr>\n",
       "    <tr>\n",
       "      <th>20</th>\n",
       "      <td>80060297</td>\n",
       "      <td>Movie</td>\n",
       "      <td>Manhattan Romance</td>\n",
       "      <td>Tom O'Brien</td>\n",
       "      <td>Tom O'Brien, Katherine Waterston, Caitlin Fitz...</td>\n",
       "      <td>United States</td>\n",
       "      <td>September 8, 2017</td>\n",
       "      <td>2014</td>\n",
       "      <td>TV-14</td>\n",
       "      <td>98 min</td>\n",
       "      <td>Comedies, Independent Movies, Romantic Movies</td>\n",
       "      <td>A filmmaker working on a documentary about lov...</td>\n",
       "    </tr>\n",
       "    <tr>\n",
       "      <th>23</th>\n",
       "      <td>70304988</td>\n",
       "      <td>Movie</td>\n",
       "      <td>Stonehearst Asylum</td>\n",
       "      <td>Brad Anderson</td>\n",
       "      <td>Kate Beckinsale, Jim Sturgess, David Thewlis, ...</td>\n",
       "      <td>United States</td>\n",
       "      <td>September 8, 2017</td>\n",
       "      <td>2014</td>\n",
       "      <td>PG-13</td>\n",
       "      <td>113 min</td>\n",
       "      <td>Horror Movies, Thrillers</td>\n",
       "      <td>In 1899, a young doctor arrives at an asylum f...</td>\n",
       "    </tr>\n",
       "  </tbody>\n",
       "</table>\n",
       "</div>"
      ],
      "text/plain": [
       "     show_id   type               title          director  \\\n",
       "4   80125979  Movie        #realityhigh  Fernando Lebrija   \n",
       "20  80060297  Movie   Manhattan Romance       Tom O'Brien   \n",
       "23  70304988  Movie  Stonehearst Asylum     Brad Anderson   \n",
       "\n",
       "                                                 cast        country  \\\n",
       "4   Nesta Cooper, Kate Walsh, John Michael Higgins...  United States   \n",
       "20  Tom O'Brien, Katherine Waterston, Caitlin Fitz...  United States   \n",
       "23  Kate Beckinsale, Jim Sturgess, David Thewlis, ...  United States   \n",
       "\n",
       "           date_added  release_year rating duration  \\\n",
       "4   September 8, 2017          2017  TV-14   99 min   \n",
       "20  September 8, 2017          2014  TV-14   98 min   \n",
       "23  September 8, 2017          2014  PG-13  113 min   \n",
       "\n",
       "                                        listed_in  \\\n",
       "4                                        Comedies   \n",
       "20  Comedies, Independent Movies, Romantic Movies   \n",
       "23                       Horror Movies, Thrillers   \n",
       "\n",
       "                                          description  \n",
       "4   When nerdy high schooler Dani finally attracts...  \n",
       "20  A filmmaker working on a documentary about lov...  \n",
       "23  In 1899, a young doctor arrives at an asylum f...  "
      ]
     },
     "execution_count": 181,
     "metadata": {},
     "output_type": "execute_result"
    }
   ],
   "source": [
    "pop_dirc=df.loc[(df['country'] == 'United States') & (df['type'] == 'Movie')]\n",
    "pop_dirc.head(3)"
   ]
  },
  {
   "cell_type": "code",
   "execution_count": 183,
   "id": "733ccfc7",
   "metadata": {},
   "outputs": [
    {
     "data": {
      "text/html": [
       "<div>\n",
       "<style scoped>\n",
       "    .dataframe tbody tr th:only-of-type {\n",
       "        vertical-align: middle;\n",
       "    }\n",
       "\n",
       "    .dataframe tbody tr th {\n",
       "        vertical-align: top;\n",
       "    }\n",
       "\n",
       "    .dataframe thead th {\n",
       "        text-align: right;\n",
       "    }\n",
       "</style>\n",
       "<table border=\"1\" class=\"dataframe\">\n",
       "  <thead>\n",
       "    <tr style=\"text-align: right;\">\n",
       "      <th></th>\n",
       "      <th>index</th>\n",
       "      <th>director</th>\n",
       "    </tr>\n",
       "  </thead>\n",
       "  <tbody>\n",
       "    <tr>\n",
       "      <th>0</th>\n",
       "      <td>4</td>\n",
       "      <td>Fernando Lebrija</td>\n",
       "    </tr>\n",
       "    <tr>\n",
       "      <th>1</th>\n",
       "      <td>20</td>\n",
       "      <td>Tom O'Brien</td>\n",
       "    </tr>\n",
       "    <tr>\n",
       "      <th>2</th>\n",
       "      <td>23</td>\n",
       "      <td>Brad Anderson</td>\n",
       "    </tr>\n",
       "  </tbody>\n",
       "</table>\n",
       "</div>"
      ],
      "text/plain": [
       "   index          director\n",
       "0      4  Fernando Lebrija\n",
       "1     20       Tom O'Brien\n",
       "2     23     Brad Anderson"
      ]
     },
     "execution_count": 183,
     "metadata": {},
     "output_type": "execute_result"
    }
   ],
   "source": [
    "pop_dirc.director.head(3).reset_index()"
   ]
  },
  {
   "cell_type": "code",
   "execution_count": 81,
   "id": "32728232",
   "metadata": {},
   "outputs": [],
   "source": [
    "#But we need the count of their production "
   ]
  },
  {
   "cell_type": "code",
   "execution_count": 75,
   "id": "cfeb80f2",
   "metadata": {},
   "outputs": [
    {
     "data": {
      "text/plain": [
       "Jay Karas       13\n",
       "Marcus Raboy    12\n",
       "Jay Chapman     12\n",
       "Name: director, dtype: int64"
      ]
     },
     "execution_count": 75,
     "metadata": {},
     "output_type": "execute_result"
    }
   ],
   "source": [
    "pop_dirc.loc[: , 'director'].value_counts().head(3)"
   ]
  },
  {
   "cell_type": "code",
   "execution_count": 77,
   "id": "18ca342b",
   "metadata": {},
   "outputs": [],
   "source": [
    "#Now we will find out about India's most popular director"
   ]
  },
  {
   "cell_type": "code",
   "execution_count": 85,
   "id": "0b3082aa",
   "metadata": {},
   "outputs": [
    {
     "data": {
      "text/plain": [
       "David Dhawan       8\n",
       "S.S. Rajamouli     7\n",
       "Ram Gopal Varma    6\n",
       "Umesh Mehra        5\n",
       "Name: director, dtype: int64"
      ]
     },
     "execution_count": 85,
     "metadata": {},
     "output_type": "execute_result"
    }
   ],
   "source": [
    "pop_dirc=df.loc[(df['country'] == 'India') & (df['type'] == 'Movie')]\n",
    "pop_dirc.loc[: , 'director'].value_counts().head(4)"
   ]
  },
  {
   "cell_type": "markdown",
   "id": "a9e0a88a",
   "metadata": {},
   "source": [
    "# 11. Which movie is the smallest movie ever made?"
   ]
  },
  {
   "cell_type": "code",
   "execution_count": 143,
   "id": "f2e83b43",
   "metadata": {},
   "outputs": [
    {
     "data": {
      "text/plain": [
       "'1 Season'"
      ]
     },
     "execution_count": 143,
     "metadata": {},
     "output_type": "execute_result"
    }
   ],
   "source": [
    "df.duration.min()"
   ]
  },
  {
   "cell_type": "code",
   "execution_count": 152,
   "id": "af154459",
   "metadata": {},
   "outputs": [
    {
     "data": {
      "text/plain": [
       "0        90 min\n",
       "1        94 min\n",
       "4        99 min\n",
       "6       110 min\n",
       "7        60 min\n",
       "         ...   \n",
       "5577     70 min\n",
       "5578    102 min\n",
       "5579     88 min\n",
       "5580    109 min\n",
       "6231     60 min\n",
       "Name: duration, Length: 4265, dtype: object"
      ]
     },
     "execution_count": 152,
     "metadata": {},
     "output_type": "execute_result"
    }
   ],
   "source": [
    "k=df.duration[df['duration'].str.contains('min')]\n",
    "k"
   ]
  },
  {
   "cell_type": "code",
   "execution_count": 155,
   "id": "da2bd2d1",
   "metadata": {},
   "outputs": [
    {
     "data": {
      "text/plain": [
       "44       10 min\n",
       "2078    100 min\n",
       "1951    100 min\n",
       "5356    100 min\n",
       "5353    100 min\n",
       "         ...   \n",
       "4172     99 min\n",
       "799      99 min\n",
       "3608     99 min\n",
       "1771     99 min\n",
       "1896     99 min\n",
       "Name: duration, Length: 4265, dtype: object"
      ]
     },
     "execution_count": 155,
     "metadata": {},
     "output_type": "execute_result"
    }
   ],
   "source": [
    "k.sort_values()"
   ]
  },
  {
   "cell_type": "markdown",
   "id": "7d877219",
   "metadata": {},
   "source": [
    "# 12. Did 2020 see any new TV shows being released?"
   ]
  },
  {
   "cell_type": "code",
   "execution_count": 156,
   "id": "19a8cce0",
   "metadata": {},
   "outputs": [
    {
     "data": {
      "text/html": [
       "<div>\n",
       "<style scoped>\n",
       "    .dataframe tbody tr th:only-of-type {\n",
       "        vertical-align: middle;\n",
       "    }\n",
       "\n",
       "    .dataframe tbody tr th {\n",
       "        vertical-align: top;\n",
       "    }\n",
       "\n",
       "    .dataframe thead th {\n",
       "        text-align: right;\n",
       "    }\n",
       "</style>\n",
       "<table border=\"1\" class=\"dataframe\">\n",
       "  <thead>\n",
       "    <tr style=\"text-align: right;\">\n",
       "      <th></th>\n",
       "      <th>show_id</th>\n",
       "      <th>type</th>\n",
       "      <th>title</th>\n",
       "      <th>director</th>\n",
       "      <th>cast</th>\n",
       "      <th>country</th>\n",
       "      <th>date_added</th>\n",
       "      <th>release_year</th>\n",
       "      <th>rating</th>\n",
       "      <th>duration</th>\n",
       "      <th>listed_in</th>\n",
       "      <th>description</th>\n",
       "    </tr>\n",
       "  </thead>\n",
       "  <tbody>\n",
       "  </tbody>\n",
       "</table>\n",
       "</div>"
      ],
      "text/plain": [
       "Empty DataFrame\n",
       "Columns: [show_id, type, title, director, cast, country, date_added, release_year, rating, duration, listed_in, description]\n",
       "Index: []"
      ]
     },
     "execution_count": 156,
     "metadata": {},
     "output_type": "execute_result"
    }
   ],
   "source": [
    "rel=df.loc[(df['type'] == 'TV show') & (df['release_year'] < 2020 )]\n",
    "rel"
   ]
  },
  {
   "cell_type": "code",
   "execution_count": null,
   "id": "0d27033a",
   "metadata": {},
   "outputs": [],
   "source": []
  },
  {
   "cell_type": "code",
   "execution_count": null,
   "id": "2788f2c3",
   "metadata": {},
   "outputs": [],
   "source": []
  },
  {
   "cell_type": "markdown",
   "id": "997e3146",
   "metadata": {},
   "source": [
    "# 13. How many categories of raitng exist?"
   ]
  },
  {
   "cell_type": "code",
   "execution_count": 160,
   "id": "e8b3f03c",
   "metadata": {},
   "outputs": [
    {
     "data": {
      "text/plain": [
       "14"
      ]
     },
     "execution_count": 160,
     "metadata": {},
     "output_type": "execute_result"
    }
   ],
   "source": [
    "df.loc[ : ,'rating'].nunique()"
   ]
  },
  {
   "cell_type": "code",
   "execution_count": 162,
   "id": "6fc96a65",
   "metadata": {},
   "outputs": [
    {
     "data": {
      "text/plain": [
       "array(['TV-PG', 'TV-MA', 'TV-Y7-FV', 'TV-Y7', 'TV-14', 'R', 'TV-Y', 'NR',\n",
       "       'PG-13', 'TV-G', 'PG', 'G', nan, 'UR', 'NC-17'], dtype=object)"
      ]
     },
     "execution_count": 162,
     "metadata": {},
     "output_type": "execute_result"
    }
   ],
   "source": [
    "df.rating.unique()"
   ]
  },
  {
   "cell_type": "code",
   "execution_count": 106,
   "id": "6644fe28",
   "metadata": {},
   "outputs": [],
   "source": [
    "# How to see the actual 14s?"
   ]
  },
  {
   "cell_type": "markdown",
   "id": "ba8b3d45",
   "metadata": {},
   "source": [
    "# 14. Does United States make more movies or TV shows?"
   ]
  },
  {
   "cell_type": "code",
   "execution_count": 167,
   "id": "ae253b72",
   "metadata": {},
   "outputs": [
    {
     "data": {
      "text/html": [
       "<div>\n",
       "<style scoped>\n",
       "    .dataframe tbody tr th:only-of-type {\n",
       "        vertical-align: middle;\n",
       "    }\n",
       "\n",
       "    .dataframe tbody tr th {\n",
       "        vertical-align: top;\n",
       "    }\n",
       "\n",
       "    .dataframe thead th {\n",
       "        text-align: right;\n",
       "    }\n",
       "</style>\n",
       "<table border=\"1\" class=\"dataframe\">\n",
       "  <thead>\n",
       "    <tr style=\"text-align: right;\">\n",
       "      <th></th>\n",
       "      <th>show_id</th>\n",
       "      <th>type</th>\n",
       "      <th>title</th>\n",
       "      <th>director</th>\n",
       "      <th>cast</th>\n",
       "      <th>country</th>\n",
       "      <th>date_added</th>\n",
       "      <th>release_year</th>\n",
       "      <th>rating</th>\n",
       "      <th>duration</th>\n",
       "      <th>listed_in</th>\n",
       "      <th>description</th>\n",
       "    </tr>\n",
       "  </thead>\n",
       "  <tbody>\n",
       "    <tr>\n",
       "      <th>0</th>\n",
       "      <td>81145628</td>\n",
       "      <td>Movie</td>\n",
       "      <td>Norm of the North: King Sized Adventure</td>\n",
       "      <td>Richard Finn, Tim Maltby</td>\n",
       "      <td>Alan Marriott, Andrew Toth, Brian Dobson, Cole...</td>\n",
       "      <td>United States, India, South Korea, China</td>\n",
       "      <td>September 9, 2019</td>\n",
       "      <td>2019</td>\n",
       "      <td>TV-PG</td>\n",
       "      <td>90 min</td>\n",
       "      <td>Children &amp; Family Movies, Comedies</td>\n",
       "      <td>Before planning an awesome wedding for his gra...</td>\n",
       "    </tr>\n",
       "  </tbody>\n",
       "</table>\n",
       "</div>"
      ],
      "text/plain": [
       "    show_id   type                                    title  \\\n",
       "0  81145628  Movie  Norm of the North: King Sized Adventure   \n",
       "\n",
       "                   director  \\\n",
       "0  Richard Finn, Tim Maltby   \n",
       "\n",
       "                                                cast  \\\n",
       "0  Alan Marriott, Andrew Toth, Brian Dobson, Cole...   \n",
       "\n",
       "                                    country         date_added  release_year  \\\n",
       "0  United States, India, South Korea, China  September 9, 2019          2019   \n",
       "\n",
       "  rating duration                           listed_in  \\\n",
       "0  TV-PG   90 min  Children & Family Movies, Comedies   \n",
       "\n",
       "                                         description  \n",
       "0  Before planning an awesome wedding for his gra...  "
      ]
     },
     "execution_count": 167,
     "metadata": {},
     "output_type": "execute_result"
    }
   ],
   "source": [
    "df.head(1)"
   ]
  },
  {
   "cell_type": "code",
   "execution_count": 174,
   "id": "e7dfb7b5",
   "metadata": {},
   "outputs": [
    {
     "data": {
      "text/plain": [
       "show_id         550\n",
       "type              1\n",
       "title           549\n",
       "director         30\n",
       "cast            464\n",
       "country           1\n",
       "date_added      417\n",
       "release_year     31\n",
       "rating            9\n",
       "duration         14\n",
       "listed_in       114\n",
       "description     550\n",
       "dtype: int64"
      ]
     },
     "execution_count": 174,
     "metadata": {},
     "output_type": "execute_result"
    }
   ],
   "source": [
    "#Below shows all the unique data of USA, but we want specific information(movies & TV Shows)\n",
    "df.loc[(df['country'] == 'United States') & (df['type'] == 'TV Show')].nunique()"
   ]
  },
  {
   "cell_type": "code",
   "execution_count": 176,
   "id": "fe32d18d",
   "metadata": {},
   "outputs": [
    {
     "data": {
      "text/plain": [
       "549"
      ]
     },
     "execution_count": 176,
     "metadata": {},
     "output_type": "execute_result"
    }
   ],
   "source": [
    "df.loc[(df['country'] == 'United States') & (df['type'] == 'TV Show'), 'title'].nunique()"
   ]
  },
  {
   "cell_type": "code",
   "execution_count": 173,
   "id": "fd9864fe",
   "metadata": {},
   "outputs": [
    {
     "data": {
      "text/plain": [
       "1479"
      ]
     },
     "execution_count": 173,
     "metadata": {},
     "output_type": "execute_result"
    }
   ],
   "source": [
    "#Therefore it is essential to mention the column of specific data. Thus, we need 'title'\n",
    "\n",
    "df.loc[(df['country']=='United States') & (df['type'] =='Movie'), 'title' ].nunique()"
   ]
  },
  {
   "cell_type": "code",
   "execution_count": null,
   "id": "0d409877",
   "metadata": {},
   "outputs": [],
   "source": []
  }
 ],
 "metadata": {
  "kernelspec": {
   "display_name": "Python 3 (ipykernel)",
   "language": "python",
   "name": "python3"
  },
  "language_info": {
   "codemirror_mode": {
    "name": "ipython",
    "version": 3
   },
   "file_extension": ".py",
   "mimetype": "text/x-python",
   "name": "python",
   "nbconvert_exporter": "python",
   "pygments_lexer": "ipython3",
   "version": "3.11.5"
  }
 },
 "nbformat": 4,
 "nbformat_minor": 5
}
